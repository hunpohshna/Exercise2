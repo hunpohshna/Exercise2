{
 "cells": [
  {
   "cell_type": "markdown",
   "id": "aa05e5f7-ba33-4863-a17d-1817f01113bc",
   "metadata": {},
   "source": [
    "## 1. Create a Histogram for iris dataset"
   ]
  },
  {
   "cell_type": "code",
   "execution_count": null,
   "id": "f75b339f-3517-4058-bbea-19b3887e6e36",
   "metadata": {},
   "outputs": [],
   "source": []
  },
  {
   "cell_type": "code",
   "execution_count": null,
   "id": "fad482f3-2363-4474-9267-40d34e73357d",
   "metadata": {},
   "outputs": [],
   "source": []
  },
  {
   "cell_type": "code",
   "execution_count": null,
   "id": "dafad3ab-2de1-46d8-b5b6-b852ba0d6d25",
   "metadata": {},
   "outputs": [],
   "source": []
  },
  {
   "cell_type": "code",
   "execution_count": null,
   "id": "101cc599-12ea-4a31-9de4-5c42e3ed8625",
   "metadata": {},
   "outputs": [],
   "source": []
  },
  {
   "cell_type": "markdown",
   "id": "dcd264d3-8c77-4486-b2eb-743c92e48fb4",
   "metadata": {},
   "source": [
    "## 2. Create a Scatter Plot for tips dataset"
   ]
  },
  {
   "cell_type": "code",
   "execution_count": null,
   "id": "9157521a-db6f-4f0f-bfa5-b5c73cc92cf2",
   "metadata": {},
   "outputs": [],
   "source": []
  },
  {
   "cell_type": "code",
   "execution_count": null,
   "id": "6b7884df-21e5-4a60-85a8-483028147d71",
   "metadata": {},
   "outputs": [],
   "source": []
  },
  {
   "cell_type": "code",
   "execution_count": null,
   "id": "1b42fa9c-5753-4b24-96d9-7a122c5aded8",
   "metadata": {},
   "outputs": [],
   "source": []
  },
  {
   "cell_type": "markdown",
   "id": "016d935a-47ba-4f0c-b8cc-a6fe041f1c6a",
   "metadata": {},
   "source": [
    "## 3. Create a bar plot for titanic dataset"
   ]
  },
  {
   "cell_type": "code",
   "execution_count": null,
   "id": "6763a76d-f033-41f7-95e8-785de5e9748a",
   "metadata": {},
   "outputs": [],
   "source": []
  },
  {
   "cell_type": "code",
   "execution_count": null,
   "id": "51c43e96-a6a4-4376-aef1-f424e8ad620c",
   "metadata": {},
   "outputs": [],
   "source": []
  },
  {
   "cell_type": "code",
   "execution_count": null,
   "id": "8d0a02af-b400-48c1-8eaf-2c627e5a52b9",
   "metadata": {},
   "outputs": [],
   "source": []
  },
  {
   "cell_type": "markdown",
   "id": "666362ac-17bf-40a5-8a0e-4cb7e09dd585",
   "metadata": {},
   "source": [
    "## 4. create a Heatmap for tip and flight dataset"
   ]
  },
  {
   "cell_type": "code",
   "execution_count": null,
   "id": "5eed1789-e270-484a-b1f3-edeb644fedda",
   "metadata": {},
   "outputs": [],
   "source": []
  },
  {
   "cell_type": "code",
   "execution_count": null,
   "id": "1ca811e4-20c0-476c-9254-4425db52538e",
   "metadata": {},
   "outputs": [],
   "source": []
  },
  {
   "cell_type": "code",
   "execution_count": null,
   "id": "5eb63cb2-feab-4ff0-acca-209f3cc2d639",
   "metadata": {},
   "outputs": [],
   "source": []
  },
  {
   "cell_type": "code",
   "execution_count": null,
   "id": "cb1b1b12-24e2-4d0e-ba02-9609c211233a",
   "metadata": {},
   "outputs": [],
   "source": []
  },
  {
   "cell_type": "code",
   "execution_count": null,
   "id": "8288372d-7551-4235-b620-962fa1c603f5",
   "metadata": {},
   "outputs": [],
   "source": []
  },
  {
   "cell_type": "markdown",
   "id": "194bb442-7db0-4882-8ddb-6cdac1e7ee06",
   "metadata": {},
   "source": [
    "## 5. Create a Pairplot for Iris dataset"
   ]
  },
  {
   "cell_type": "code",
   "execution_count": null,
   "id": "51c49a7b-ae19-4439-affc-7a7b696baf02",
   "metadata": {},
   "outputs": [],
   "source": []
  },
  {
   "cell_type": "code",
   "execution_count": null,
   "id": "bd48b2c1-7469-4919-b899-5f2375134549",
   "metadata": {},
   "outputs": [],
   "source": []
  },
  {
   "cell_type": "code",
   "execution_count": null,
   "id": "6817a48e-9f55-4901-ad2b-34aae71bfccb",
   "metadata": {},
   "outputs": [],
   "source": []
  },
  {
   "cell_type": "code",
   "execution_count": null,
   "id": "81e51e10-45f0-407d-90e1-6c449d68b9c2",
   "metadata": {},
   "outputs": [],
   "source": []
  },
  {
   "cell_type": "markdown",
   "id": "3ea8a4e8-ec60-43d2-aeaf-94edd2ab88fd",
   "metadata": {},
   "source": [
    "## 6. create a count plot for tips and titanic dataset"
   ]
  },
  {
   "cell_type": "code",
   "execution_count": null,
   "id": "1f0d79ab-4325-4b73-a239-4b5e60522e42",
   "metadata": {},
   "outputs": [],
   "source": []
  },
  {
   "cell_type": "code",
   "execution_count": null,
   "id": "afa25048-b3cf-41cb-9db5-a78d3b4a0ded",
   "metadata": {},
   "outputs": [],
   "source": []
  },
  {
   "cell_type": "code",
   "execution_count": null,
   "id": "16e482c8-2b42-4cea-afe5-7799dac1c85a",
   "metadata": {},
   "outputs": [],
   "source": []
  },
  {
   "cell_type": "code",
   "execution_count": null,
   "id": "cfaff0cf-dc71-41d4-9a04-abfef7fa5595",
   "metadata": {},
   "outputs": [],
   "source": []
  },
  {
   "cell_type": "code",
   "execution_count": null,
   "id": "bdcc912c-9443-4d1d-8413-a6bac2f3aceb",
   "metadata": {},
   "outputs": [],
   "source": []
  },
  {
   "cell_type": "code",
   "execution_count": null,
   "id": "9e0aa5ce-1a98-4e8e-b246-39c4e9e57a2f",
   "metadata": {},
   "outputs": [],
   "source": []
  }
 ],
 "metadata": {
  "kernelspec": {
   "display_name": "Python 3 (ipykernel)",
   "language": "python",
   "name": "python3"
  },
  "language_info": {
   "codemirror_mode": {
    "name": "ipython",
    "version": 3
   },
   "file_extension": ".py",
   "mimetype": "text/x-python",
   "name": "python",
   "nbconvert_exporter": "python",
   "pygments_lexer": "ipython3",
   "version": "3.11.7"
  }
 },
 "nbformat": 4,
 "nbformat_minor": 5
}
